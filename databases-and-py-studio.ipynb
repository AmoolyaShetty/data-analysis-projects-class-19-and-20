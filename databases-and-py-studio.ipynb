{
 "cells": [
  {
   "attachments": {},
   "cell_type": "markdown",
   "metadata": {
    "azdata_cell_guid": "54326aff-51cd-4766-8046-828a92489c6d"
   },
   "source": [
    "# Studio: Working with Databases in Python\n",
    "\n",
    "For today's studio, we will be using the [TV Shows dataset](https://www.kaggle.com/ruchi798/tv-shows-on-netflix-prime-video-hulu-and-disney) from Kaggle. We have already downloaded the CSV for you.\n",
    "\n",
    "You will use the watchlist you created to answer these questions:\n",
    "\n",
    "1. **Which streaming services contain the shows you want to watch next?**\n",
    "2. **Which streaming service is the best value based on the shows you want to watch?**\n",
    "\n",
    "As you complete the different tasks in the studio, you may choose between using Pandas or SQL. \n",
    "\n",
    "**Remember**: we learned in our prep work that one is oftentimes more efficient at certain tasks than the other, so choose wisely!"
   ]
  },
  {
   "attachments": {},
   "cell_type": "markdown",
   "metadata": {
    "azdata_cell_guid": "00bc62ef-6c46-40a2-bdad-a3250a003ce7"
   },
   "source": [
    "## My Watchlist\n",
    "\n",
    "If you would like, please use this space to make note of your watchlist by editing the text cell. You will need 10 shows overall.\n",
    "\n",
    "1. \n",
    "2. \n",
    "3. \n",
    "4. \n",
    "5. \n",
    "6. \n",
    "7. \n",
    "8. \n",
    "9. \n",
    "10. "
   ]
  },
  {
   "cell_type": "markdown",
   "metadata": {
    "azdata_cell_guid": "040bdac5-f7fc-474f-b112-1d807249ad0a"
   },
   "source": [
    "## Database Setup\n",
    "\n",
    "Import the necessary libraries and create a dataframe from the provided CSV. \n",
    "\n",
    "Print the info out for the dataframe. \n",
    "\n",
    "After that, you may drop the column called `Unnamed: 0` and rename any columns with spaces or unusual characters in the names such as `\"Disney+\"`. \n",
    "\n",
    "Print out the info for the dataframe again to ensure your changes were made."
   ]
  },
  {
   "cell_type": "code",
   "execution_count": 13,
   "metadata": {
    "azdata_cell_guid": "965f15d3-27b1-43ed-97e4-8c6fd482476c",
    "tags": []
   },
   "outputs": [
    {
     "name": "stdout",
     "output_type": "stream",
     "text": [
      "<class 'pandas.core.frame.DataFrame'>\n",
      "RangeIndex: 5368 entries, 0 to 5367\n",
      "Data columns (total 11 columns):\n",
      " #   Column           Non-Null Count  Dtype \n",
      "---  ------           --------------  ----- \n",
      " 0   ID               5368 non-null   int64 \n",
      " 1   Title            5368 non-null   object\n",
      " 2   Year             5368 non-null   int64 \n",
      " 3   Age              3241 non-null   object\n",
      " 4   IMDb             4406 non-null   object\n",
      " 5   Rotten Tomatoes  5368 non-null   object\n",
      " 6   Netflix          5368 non-null   int64 \n",
      " 7   Hulu             5368 non-null   int64 \n",
      " 8   Prime Video      5368 non-null   int64 \n",
      " 9   Disney+          5368 non-null   int64 \n",
      " 10  Type             5368 non-null   int64 \n",
      "dtypes: int64(7), object(4)\n",
      "memory usage: 461.4+ KB\n",
      "\n",
      "Updated DataFrame Info:\n",
      "<class 'pandas.core.frame.DataFrame'>\n",
      "RangeIndex: 5368 entries, 0 to 5367\n",
      "Data columns (total 11 columns):\n",
      " #   Column           Non-Null Count  Dtype \n",
      "---  ------           --------------  ----- \n",
      " 0   ID               5368 non-null   int64 \n",
      " 1   Title            5368 non-null   object\n",
      " 2   Year             5368 non-null   int64 \n",
      " 3   Age              3241 non-null   object\n",
      " 4   IMDb             4406 non-null   object\n",
      " 5   Rotten Tomatoes  5368 non-null   object\n",
      " 6   Netflix          5368 non-null   int64 \n",
      " 7   Hulu             5368 non-null   int64 \n",
      " 8   Prime Video      5368 non-null   int64 \n",
      " 9   Disney Plus      5368 non-null   int64 \n",
      " 10  Type             5368 non-null   int64 \n",
      "dtypes: int64(7), object(4)\n",
      "memory usage: 461.4+ KB\n",
      "\n",
      "First few rows of the updated DataFrame:\n",
      "   ID             Title  Year  Age    IMDb Rotten Tomatoes  Netflix  Hulu  \\\n",
      "0   1      Breaking Bad  2008  18+  9.4/10         100/100        1     0   \n",
      "1   2   Stranger Things  2016  16+  8.7/10          96/100        1     0   \n",
      "2   3   Attack on Titan  2013  18+  9.0/10          95/100        1     1   \n",
      "3   4  Better Call Saul  2015  18+  8.8/10          94/100        1     0   \n",
      "4   5              Dark  2017  16+  8.8/10          93/100        1     0   \n",
      "\n",
      "   Prime Video  Disney Plus  Type  \n",
      "0            0            0     1  \n",
      "1            0            0     1  \n",
      "2            0            0     1  \n",
      "3            0            0     1  \n",
      "4            0            0     1  \n"
     ]
    }
   ],
   "source": [
    "# Code here:\n",
    "import sqlite3\n",
    "import pandas as pd\n",
    "df = pd.read_csv(r'tv_shows.csv')\n",
    "df.head()\n",
    "df = df.drop('Unnamed: 0',axis = 1)\n",
    "df.info()\n",
    "# Rename coulmns with spaces or unusual characters\n",
    "df = df.rename(columns = { \n",
    "    'Disney+': 'Disney Plus',\n",
    "})\n",
    "print(\"\\nUpdated DataFrame Info:\")\n",
    "df.info()\n",
    "print(\"\\nFirst few rows of the updated DataFrame:\")\n",
    "print(df.head())"
   ]
  },
  {
   "attachments": {},
   "cell_type": "markdown",
   "metadata": {
    "azdata_cell_guid": "93875e01-f1ec-45ab-b8b3-c0fe09c89c41"
   },
   "source": [
    "With your dataframe at the ready, create a new database called `tv.db`. \n",
    "\n",
    "Add a new table to your database called `shows` using the data in the dataframe. "
   ]
  },
  {
   "cell_type": "code",
   "execution_count": 15,
   "metadata": {
    "azdata_cell_guid": "cae4affc-d930-4649-9c39-551475a83b5b",
    "tags": []
   },
   "outputs": [
    {
     "name": "stdout",
     "output_type": "stream",
     "text": [
      "Tables in the database:\n",
      "Shows\n"
     ]
    }
   ],
   "source": [
    "# Code here\n",
    "conn = sqlite3.connect('tv.db')\n",
    "df.to_sql('Shows',conn, if_exists = 'replace', index = False)\n",
    "#verify the data creation by quering\n",
    "cursor = conn.cursor()\n",
    "cursor.execute(\"SELECT name From sqlite_master WHERE type ='table';\")\n",
    "tables = cursor.fetchall()\n",
    "print(\"Tables in the database:\")\n",
    "for table in tables:\n",
    "    print (table[0])\n"
   ]
  },
  {
   "attachments": {},
   "cell_type": "markdown",
   "metadata": {
    "azdata_cell_guid": "4916f211-149f-467b-b5e4-22ad946b54f2"
   },
   "source": [
    "With your new table and database set up, print out the top 20 records in the `shows` table."
   ]
  },
  {
   "cell_type": "code",
   "execution_count": 16,
   "metadata": {
    "azdata_cell_guid": "c6aa3980-3eef-4d7d-8f04-961508662147",
    "tags": []
   },
   "outputs": [
    {
     "name": "stdout",
     "output_type": "stream",
     "text": [
      "Top 20 records from the shows table:\n",
      "(1, 'Breaking Bad', 2008, '18+', '9.4/10', '100/100', 1, 0, 0, 0, 1)\n",
      "(2, 'Stranger Things', 2016, '16+', '8.7/10', '96/100', 1, 0, 0, 0, 1)\n",
      "(3, 'Attack on Titan', 2013, '18+', '9.0/10', '95/100', 1, 1, 0, 0, 1)\n",
      "(4, 'Better Call Saul', 2015, '18+', '8.8/10', '94/100', 1, 0, 0, 0, 1)\n",
      "(5, 'Dark', 2017, '16+', '8.8/10', '93/100', 1, 0, 0, 0, 1)\n",
      "(6, 'Avatar: The Last Airbender', 2005, '7+', '9.3/10', '93/100', 1, 0, 1, 0, 1)\n",
      "(7, 'Peaky Blinders', 2013, '18+', '8.8/10', '93/100', 1, 0, 0, 0, 1)\n",
      "(8, 'The Walking Dead', 2010, '18+', '8.2/10', '93/100', 1, 0, 0, 0, 1)\n",
      "(9, 'Black Mirror', 2011, '18+', '8.8/10', '92/100', 1, 0, 0, 0, 1)\n",
      "(10, \"The Queen's Gambit\", 2020, '18+', '8.6/10', '92/100', 1, 0, 0, 0, 1)\n",
      "(11, 'Mindhunter', 2017, '18+', '8.6/10', '90/100', 1, 0, 0, 0, 1)\n",
      "(12, 'Community', 2009, '7+', '8.5/10', '90/100', 1, 1, 1, 0, 1)\n",
      "(13, 'Narcos', 2015, '18+', '8.8/10', '90/100', 1, 0, 0, 0, 1)\n",
      "(14, 'Shameless', 2011, '18+', '8.5/10', '90/100', 1, 1, 1, 0, 1)\n",
      "(15, 'Money Heist', 2017, '18+', '8.3/10', '90/100', 1, 0, 0, 0, 1)\n",
      "(16, \"Marvel's Daredevil\", 2015, '18+', '8.6/10', '90/100', 1, 0, 0, 0, 1)\n",
      "(17, 'Lucifer', 2016, '16+', '8.1/10', '90/100', 1, 0, 0, 0, 1)\n",
      "(18, 'Supernatural', 2005, '16+', '8.4/10', '89/100', 1, 0, 0, 0, 1)\n",
      "(19, 'The Witcher', 2019, '18+', '8.2/10', '89/100', 1, 0, 0, 0, 1)\n",
      "(20, 'Ozark', 2017, '18+', '8.4/10', '89/100', 1, 0, 0, 0, 1)\n"
     ]
    }
   ],
   "source": [
    "# Code Here\n",
    "cursor.execute(\"SELECT * FROM shows LIMIT 20\")\n",
    "top_20_records = cursor.fetchall()\n",
    "print(\"Top 20 records from the shows table:\")\n",
    "for record in top_20_records:\n",
    "    print(record)"
   ]
  },
  {
   "attachments": {},
   "cell_type": "markdown",
   "metadata": {
    "azdata_cell_guid": "f158ccd2-c87a-4d2c-a947-0eadd0484a3e"
   },
   "source": [
    "Now, create a new table called `watchlist` that has three fields:\n",
    "1. id -> data type of `INTEGER NOT NULL PRIMARY KEY AUTOINCREMENT`\n",
    "2. title -> data type of `TEXT`\n",
    "3. importance_rank -> data type of `INTEGER`\n",
    "\n",
    "For the `importance_rank` field, rank each of your watchlist shows based on how much you want to see them, `10` being the most important and `1` being the least important.\n",
    "\n",
    "Then, insert each of the items from your watchlist into the new `watchlist` table, using the `executemany` method from our exercises.\n",
    "\n",
    "Finally, select all the records from the `watchlist` table and print them out to the console."
   ]
  },
  {
   "cell_type": "code",
   "execution_count": 18,
   "metadata": {
    "azdata_cell_guid": "f95defad-521b-4112-8435-08daaac80b80"
   },
   "outputs": [
    {
     "name": "stdout",
     "output_type": "stream",
     "text": [
      "Watchlist records:\n",
      "(1, 'Stranger Things', 10)\n",
      "(2, 'The Witcher', 9)\n",
      "(3, 'Breaking Bad', 8)\n",
      "(4, 'Dark', 7)\n",
      "(5, \"The Queen's Gambit\", 6)\n",
      "(6, 'Mindhunter', 5)\n",
      "(7, 'Black Mirror', 4)\n",
      "(8, 'Peaky Blinders', 3)\n",
      "(9, 'Ozark', 2)\n",
      "(10, 'Money Heist', 1)\n"
     ]
    }
   ],
   "source": [
    "# Code here\n",
    "#Create the watchlist table\n",
    "cursor.execute('''\n",
    "CREATE TABLE IF NOT EXISTS watchlist(\n",
    "    id INTEGER NOT NULL PRIMARY KEY AUTOINCREMENT,\n",
    "    title TEXT,\n",
    "    importance_rank INTEGER\n",
    ")\n",
    "''')\n",
    "#sample watchlist data\n",
    "watchlist_data = [\n",
    "    ('Stranger Things', 10),\n",
    "    ('The Witcher', 9),\n",
    "    ('Breaking Bad',8),\n",
    "    ('Dark', 7),\n",
    "    ('The Queen\\'s Gambit', 6),\n",
    "    ('Mindhunter', 5),\n",
    "    ('Black Mirror', 4),\n",
    "    ('Peaky Blinders', 3),\n",
    "    ('Ozark', 2),\n",
    "    ('Money Heist',1)\n",
    "]\n",
    "#insert watchlist data usig executemany\n",
    "cursor.executemany('INSERT INTO watchlist (title, importance_rank) values(?,?)', watchlist_data)\n",
    "conn.commit()\n",
    "#select all records from the watchlist table\n",
    "cursor.execute('SELECT * FROM watchlist')\n",
    "watchlist_records = cursor.fetchall()\n",
    "print(\"Watchlist records:\")\n",
    "for record in watchlist_records:\n",
    "    print(record)\n"
   ]
  },
  {
   "attachments": {},
   "cell_type": "markdown",
   "metadata": {
    "azdata_cell_guid": "4716090d-63e3-4283-8245-934c4a28c750"
   },
   "source": [
    "## Working with the Data\n",
    "\n",
    "Using Pandas or SQL, find the answer to these 2 questions:\n",
    "1. How many of the total shows (full csv list) are on each streaming service?\n",
    "2. What percentage of these total shows is available on each streaming service?\n",
    "\n",
    "**Hint**:\n",
    "\n",
    "Use the pandas `query` method to filter the data, and then the Python `len` method to find it's length. [Relevant Link](https://www.geeksforgeeks.org/ways-to-filter-pandas-dataframe-by-column-values/)"
   ]
  },
  {
   "cell_type": "code",
   "execution_count": 29,
   "metadata": {
    "azdata_cell_guid": "8e4f3757-474f-4e20-b861-db973437b541"
   },
   "outputs": [
    {
     "name": "stdout",
     "output_type": "stream",
     "text": [
      "Total number of shows:5368\n",
      "\n",
      "Number of shows on each streaminng service:\n",
      "Netflix:1971\n",
      "Hulu:1621\n",
      "Prime Video:1831\n",
      "Disney Plus:351\n",
      "\n",
      "Percentage of shows on each streaming service:\n",
      "Netflix:36.72%\n",
      "Hulu:30.20%\n",
      "Prime Video:34.11%\n",
      "Disney Plus:6.54%\n"
     ]
    }
   ],
   "source": [
    "# Code here\n",
    "#calculate total number of shows\n",
    "total_shows = len(df)\n",
    "streaming_services = ['Netflix','Hulu','Prime Video', 'Disney Plus']\n",
    "show_counts = {}\n",
    "percentages = {}\n",
    "for service in streaming_services:\n",
    "    if ' ' in service:\n",
    "        show_counts[service] = len(df.query(f'`{service}` == 1'))\n",
    "    else:\n",
    "        show_counts[service] = len(df.query(f'{service} == 1'))\n",
    "    percentages[service] = (show_counts[service]/total_shows)*100\n",
    "print(f\"Total number of shows:{total_shows}\")\n",
    "print(\"\\nNumber of shows on each streaminng service:\")\n",
    "for service, count in show_counts.items():\n",
    "    print(f\"{service}:{count}\")\n",
    "print(\"\\nPercentage of shows on each streaming service:\")\n",
    "for service, percentage in percentages.items():\n",
    "    print(f\"{service}:{percentage:.2f}%\")"
   ]
  },
  {
   "attachments": {},
   "cell_type": "markdown",
   "metadata": {
    "azdata_cell_guid": "167cbd0d-ad9f-4f27-8066-e45dfdfaf421"
   },
   "source": [
    "\n",
    "Now join your `watchlist` data to the `shows` data using pandas or SQL. Verify that you joined the data correctly.\n",
    "\n",
    "Using this related dataset, come up with analytic code that answers these questions:\n",
    "1. The number of watchlist shows each streaming service has\n",
    "2. The percentage of your overall watchlist each streaming service has\n"
   ]
  },
  {
   "cell_type": "code",
   "execution_count": 38,
   "metadata": {
    "azdata_cell_guid": "b871523e-a476-4f3a-a6ac-2e251f140e84"
   },
   "outputs": [
    {
     "name": "stdout",
     "output_type": "stream",
     "text": [
      "Merged DataFrame Info:\n",
      "<class 'pandas.core.frame.DataFrame'>\n",
      "RangeIndex: 10 entries, 0 to 9\n",
      "Data columns (total 14 columns):\n",
      " #   Column           Non-Null Count  Dtype \n",
      "---  ------           --------------  ----- \n",
      " 0   id               10 non-null     int64 \n",
      " 1   title            10 non-null     object\n",
      " 2   importance_rank  10 non-null     int64 \n",
      " 3   ID               10 non-null     int64 \n",
      " 4   Title            10 non-null     object\n",
      " 5   Year             10 non-null     int64 \n",
      " 6   Age              10 non-null     object\n",
      " 7   IMDb             10 non-null     object\n",
      " 8   Rotten Tomatoes  10 non-null     object\n",
      " 9   Netflix          10 non-null     int64 \n",
      " 10  Hulu             10 non-null     int64 \n",
      " 11  Prime Video      10 non-null     int64 \n",
      " 12  Disney Plus      10 non-null     int64 \n",
      " 13  Type             10 non-null     int64 \n",
      "dtypes: int64(9), object(5)\n",
      "memory usage: 1.2+ KB\n",
      "None\n",
      "   id               title  importance_rank  ID               Title  Year  Age  \\\n",
      "0   1     Stranger Things               10   2     Stranger Things  2016  16+   \n",
      "1   2         The Witcher                9  19         The Witcher  2019  18+   \n",
      "2   3        Breaking Bad                8   1        Breaking Bad  2008  18+   \n",
      "3   4                Dark                7   5                Dark  2017  16+   \n",
      "4   5  The Queen's Gambit                6  10  The Queen's Gambit  2020  18+   \n",
      "\n",
      "     IMDb Rotten Tomatoes  Netflix  Hulu  Prime Video  Disney Plus  Type  \n",
      "0  8.7/10          96/100        1     0            0            0     1  \n",
      "1  8.2/10          89/100        1     0            0            0     1  \n",
      "2  9.4/10         100/100        1     0            0            0     1  \n",
      "3  8.8/10          93/100        1     0            0            0     1  \n",
      "4  8.6/10          92/100        1     0            0            0     1  \n",
      "\n",
      "Number of watchlist shows each steaming service has:\n",
      "Netflix;10\n",
      "Hulu;0\n",
      "Prime Video;0\n",
      "Disney Plus;0\n",
      "\n",
      "Percentage of your overall watchlist each streaming servie has:\n",
      "Netflix: 100.00%\n",
      "Hulu: 0.00%\n",
      "Prime Video: 0.00%\n",
      "Disney Plus: 0.00%\n"
     ]
    }
   ],
   "source": [
    "# Code here\n",
    "#join watchlist dat to the shows data\n",
    "watchlist = pd.read_sql_query(\"SELECT * FROM watchlist\", conn)\n",
    "df = pd.read_sql_query(\"SELECT * FROM shows\", conn)\n",
    "merged_df = pd.merge(watchlist, df, left_on ='title', right_on ='Title',how = 'left')\n",
    "print(\"Merged DataFrame Info:\")\n",
    "print(merged_df.info())\n",
    "print(merged_df.head())\n",
    "#calculate the number of watchlist shows each streaming service has\n",
    "streaming_services = ['Netflix','Hulu','Prime Video', 'Disney Plus']\n",
    "watchlist_counts = {service: merged_df[service].sum() for service in streaming_services}\n",
    "print(\"\\nNumber of watchlist shows each steaming service has:\")\n",
    "for service, count in watchlist_counts.items():\n",
    "    print (f\"{service};{int(count)}\")\n",
    "#calculate the percentage of your overall watchlist each streaming service has\n",
    "total_watchlist = len(watchlist)\n",
    "watchlist_percentages = {service: (count/total_watchlist)*100 for service, count in watchlist_counts.items()}\n",
    "print(\"\\nPercentage of your overall watchlist each streaming servie has:\")\n",
    "for service, percentage in watchlist_percentages.items():\n",
    "    print(f\"{service}: {percentage:.2f}%\")\n",
    "    \n"
   ]
  },
  {
   "cell_type": "markdown",
   "metadata": {
    "azdata_cell_guid": "909689e4-1aae-41e3-b1f8-158ebe5ec3ca"
   },
   "source": [
    "## Results\n",
    "\n",
    "Now that you have done your analysis, make note of the answers to the following questions by editing the text cell:\n",
    "\n",
    "1. Was every show on your watchlist in the Kaggle dataset? Do you have any ideas as to why a show might not have been present?\n",
    "\n",
    "- *your_answer*every show on the watchlist was present in the kaggle dataset, as evidenced by successful merge of all 10 watchlist items.The dataset might be outdated and newer shows arent included.\n",
    "\n",
    "2. Did you include a show or shows in your watchlist that is exclusive to one of the platforms? How might that have impacted your analysis?\n",
    "\n",
    "- *your_answer* Based on the analysis all shows in the watchlist are avaliable on Netlix. This could mean that some shows are Netflix exclusives, which has significantly impacted the analysis.  \n",
    "\n",
    "3. Which streaming service(s) offered the most shows on your watchlist? Which streaming service(s) offered the least?\n",
    "\n",
    "- *your_answer* Netflix offered most shows. Hulu, Prime Vedio, Disney plus offered least\n",
    "\n",
    "4. Based on the shows you want to watch and the results of your analysis, is there a streaming service you think would be a good fit for you?\n",
    "\n",
    "- *your_answer* Based on the analysis Netflix would be a best fit as it offers 100% of the shows on the watchlist."
   ]
  },
  {
   "cell_type": "markdown",
   "metadata": {},
   "source": [
    "# Bonus Mission\n",
    "\n",
    "We didn't end up using that `importance_rank` field, did we?\n",
    "\n",
    "Well, that was intentional! \n",
    "\n",
    "Your bonus mission is to come up with analysis that uses that field to determine, based on watchlist show importance_rank and number of watchlist shows available on a service, which platform you should subscribe to."
   ]
  },
  {
   "cell_type": "code",
   "execution_count": 39,
   "metadata": {},
   "outputs": [],
   "source": [
    "# Code Here\n",
    "conn.close()"
   ]
  },
  {
   "cell_type": "code",
   "execution_count": null,
   "metadata": {},
   "outputs": [],
   "source": []
  }
 ],
 "metadata": {
  "kernelspec": {
   "display_name": "Python 3 (ipykernel)",
   "language": "python",
   "name": "python3"
  },
  "language_info": {
   "codemirror_mode": {
    "name": "ipython",
    "version": 3
   },
   "file_extension": ".py",
   "mimetype": "text/x-python",
   "name": "python",
   "nbconvert_exporter": "python",
   "pygments_lexer": "ipython3",
   "version": "3.12.7"
  }
 },
 "nbformat": 4,
 "nbformat_minor": 4
}
